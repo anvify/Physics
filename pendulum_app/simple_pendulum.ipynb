{
 "cells": [
  {
   "cell_type": "code",
   "execution_count": null,
   "id": "a59b81ac",
   "metadata": {},
   "outputs": [
    {
     "ename": "SyntaxError",
     "evalue": "invalid syntax (548352174.py, line 1)",
     "output_type": "error",
     "traceback": [
      "  \u001b[36mCell\u001b[39m\u001b[36m \u001b[39m\u001b[32mIn[7]\u001b[39m\u001b[32m, line 1\u001b[39m\n\u001b[31m    \u001b[39m\u001b[31mjupyter labextension install @jupyter-widgets/jupyterlab-manager\u001b[39m\n            ^\n\u001b[31mSyntaxError\u001b[39m\u001b[31m:\u001b[39m invalid syntax\n"
     ]
    }
   ],
   "source": [
    "import numpy as np\n",
    "import matplotlib.pyplot as plt\n",
    "from ipywidgets import interact, FloatSlider\n",
    "from IPython.display import display\n",
    "\n",
    "# Pendulum function\n",
    "def simulate_pendulum(length=1.0, mass=1.0, theta0_deg=30.0, g=9.8):\n",
    "    theta0 = np.radians(theta0_deg)\n",
    "    t = np.linspace(0, 10, 1000)\n",
    "    omega = np.sqrt(g / length)\n",
    "    theta = theta0 * np.cos(omega * t)\n",
    "\n",
    "    x = length * np.sin(theta)\n",
    "    y = -length * np.cos(theta)\n",
    "\n",
    "    fig, ax = plt.subplots(figsize=(6, 4))\n",
    "    ax.set_aspect('equal')\n",
    "    ax.set_xlim(-length - 0.2, length + 0.2)\n",
    "    ax.set_ylim(-length - 0.2, 0.2)\n",
    "    ax.set_title(\"Pendulum Motion\")\n",
    "    ax.set_xlabel(\"x (m)\")\n",
    "    ax.set_ylabel(\"y (m)\")\n",
    "    ax.plot([0, x[0]], [0, y[0]], 'o-', lw=2, color='darkblue')\n",
    "    ax.plot(x, y, 'r--', lw=0.5)\n",
    "    plt.show()\n",
    "\n",
    "# Interactive sliders\n",
    "interact(simulate_pendulum,\n",
    "         length=FloatSlider(min=0.1, max=5.0, step=0.1, value=1.0),\n",
    "         mass=FloatSlider(min=0.1, max=10.0, step=0.1, value=1.0),\n",
    "         theta0_deg=FloatSlider(min=-90, max=90, step=1, value=30),\n",
    "         g=FloatSlider(min=1.0, max=20.0, step=0.1, value=9.8))\n"
   ]
  }
 ],
 "metadata": {
  "kernelspec": {
   "display_name": "Python 3",
   "language": "python",
   "name": "python3"
  },
  "language_info": {
   "codemirror_mode": {
    "name": "ipython",
    "version": 3
   },
   "file_extension": ".py",
   "mimetype": "text/x-python",
   "name": "python",
   "nbconvert_exporter": "python",
   "pygments_lexer": "ipython3",
   "version": "3.13.3"
  }
 },
 "nbformat": 4,
 "nbformat_minor": 5
}
